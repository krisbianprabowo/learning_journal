{
 "cells": [
  {
   "cell_type": "code",
   "execution_count": 3,
   "id": "3e2e19f7",
   "metadata": {},
   "outputs": [],
   "source": [
    "angka = 15"
   ]
  },
  {
   "cell_type": "code",
   "execution_count": 4,
   "id": "515c882a",
   "metadata": {},
   "outputs": [
    {
     "data": {
      "text/plain": [
       "15"
      ]
     },
     "execution_count": 4,
     "metadata": {},
     "output_type": "execute_result"
    }
   ],
   "source": [
    "angka"
   ]
  },
  {
   "cell_type": "code",
   "execution_count": 8,
   "id": "7f7d0fd4",
   "metadata": {},
   "outputs": [
    {
     "data": {
      "text/plain": [
       "True"
      ]
     },
     "execution_count": 8,
     "metadata": {},
     "output_type": "execute_result"
    }
   ],
   "source": [
    "angka == 15"
   ]
  },
  {
   "cell_type": "code",
   "execution_count": 9,
   "id": "d1610471",
   "metadata": {},
   "outputs": [
    {
     "name": "stdout",
     "output_type": "stream",
     "text": [
      "15 lebih besar dari 10\n"
     ]
    }
   ],
   "source": [
    "angka = 15\n",
    "print(f\"{angka} lebih besar dari 10\")"
   ]
  },
  {
   "cell_type": "code",
   "execution_count": 16,
   "id": "8b8b30dc",
   "metadata": {},
   "outputs": [
    {
     "name": "stdout",
     "output_type": "stream",
     "text": [
      "9 lebih kecil dari 10\n"
     ]
    }
   ],
   "source": [
    "angka = 9\n",
    "if angka > 10:\n",
    "    print(f\"{angka} lebih besar dari 10\")\n",
    "    print(\"ini masih didalam kondisi if\")\n",
    "else:\n",
    "    print(f\"{angka} lebih kecil dari 10\")"
   ]
  },
  {
   "cell_type": "markdown",
   "id": "781eacaa",
   "metadata": {},
   "source": [
    "# looping"
   ]
  },
  {
   "cell_type": "code",
   "execution_count": 17,
   "id": "5a547182",
   "metadata": {},
   "outputs": [
    {
     "name": "stdout",
     "output_type": "stream",
     "text": [
      "Halo Afif, apa kabar?\n"
     ]
    }
   ],
   "source": [
    "print(\"Halo Afif, apa kabar?\")"
   ]
  },
  {
   "cell_type": "code",
   "execution_count": 22,
   "id": "9361f8b1",
   "metadata": {},
   "outputs": [
    {
     "name": "stdout",
     "output_type": "stream",
     "text": [
      "1 lebih kecil dari 10\n",
      "2 lebih kecil dari 10\n",
      "3 lebih kecil dari 10\n",
      "4 lebih kecil dari 10\n",
      "5 lebih kecil dari 10\n",
      "6 lebih kecil dari 10\n",
      "7 lebih kecil dari 10\n",
      "8 lebih kecil dari 10\n",
      "9 lebih kecil dari 10\n"
     ]
    }
   ],
   "source": [
    "angka = 1\n",
    "while angka<10:\n",
    "    print(f\"{angka} lebih kecil dari 10\")\n",
    "    angka += 1"
   ]
  },
  {
   "cell_type": "code",
   "execution_count": 60,
   "id": "f79354d8",
   "metadata": {},
   "outputs": [
    {
     "name": "stdout",
     "output_type": "stream",
     "text": [
      "Masukan pesanan anda: \n",
      "Masukan pesanan anda: \n",
      "Masukan pesanan anda: cukup\n",
      "[]\n"
     ]
    }
   ],
   "source": [
    "list_makanan =[]\n",
    "makanan = input(\"Masukan pesanan anda: \")\n",
    "while makanan != \"cukup\":\n",
    "    if makanan!=\"\":\n",
    "        list_makanan.append(makanan)\n",
    "    makanan = input(\"Masukan pesanan anda: \")    \n",
    "print(list_makanan)"
   ]
  },
  {
   "cell_type": "code",
   "execution_count": 25,
   "id": "14500303",
   "metadata": {},
   "outputs": [
    {
     "name": "stdout",
     "output_type": "stream",
     "text": [
      "1 * 1 = 1\n",
      "1 * 2 = 2\n",
      "1 * 3 = 3\n",
      "1 * 4 = 4\n",
      "1 * 5 = 5\n",
      "1 * 6 = 6\n",
      "1 * 7 = 7\n",
      "1 * 8 = 8\n",
      "1 * 9 = 9\n",
      "1 * 10 = 10\n"
     ]
    }
   ],
   "source": [
    "i = 1\n",
    "while i<=10:\n",
    "    print(f\"1 * {i} = {1*i}\")\n",
    "    i += 1"
   ]
  },
  {
   "cell_type": "code",
   "execution_count": 54,
   "id": "500d4c43",
   "metadata": {},
   "outputs": [
    {
     "name": "stdout",
     "output_type": "stream",
     "text": [
      "saya jual pepaya\n",
      "saya jual mangga\n",
      "saya jual apel\n",
      "saya jual jeruk\n"
     ]
    }
   ],
   "source": [
    "buahbuahan = [\"pepaya\", \"mangga\", \"apel\", \"jeruk\"]\n",
    "for item in buahbuahan:\n",
    "    print(f\"saya jual {item}\")"
   ]
  },
  {
   "cell_type": "code",
   "execution_count": 61,
   "id": "e1213de9",
   "metadata": {},
   "outputs": [
    {
     "name": "stdout",
     "output_type": "stream",
     "text": [
      "sekarang ada di angka 0\n",
      "sekarang ada di angka 1\n",
      "sekarang ada di angka 2\n",
      "sekarang ada di angka 3\n",
      "sekarang ada di angka 4\n",
      "sekarang ada di angka 5\n",
      "sekarang ada di angka 6\n"
     ]
    }
   ],
   "source": [
    "for i in range(0, 10, +1):\n",
    "    if i==7:\n",
    "        break\n",
    "    print(f\"sekarang ada di angka {i}\")\n",
    "    "
   ]
  },
  {
   "cell_type": "code",
   "execution_count": 62,
   "id": "57bb29b5",
   "metadata": {},
   "outputs": [
    {
     "name": "stdout",
     "output_type": "stream",
     "text": [
      "sekarang ada di angka 0\n",
      "sekarang ada di angka 1\n",
      "sekarang ada di angka 2\n",
      "sekarang ada di angka 3\n",
      "sekarang ada di angka 4\n",
      "sekarang ada di angka 5\n",
      "sekarang ada di angka 6\n",
      "sekarang ada di angka 8\n",
      "sekarang ada di angka 9\n"
     ]
    }
   ],
   "source": [
    "#continue:\n",
    "for i in range(0, 10, +1):\n",
    "    if i==7:\n",
    "        continue\n",
    "    print(f\"sekarang ada di angka {i}\")"
   ]
  },
  {
   "cell_type": "code",
   "execution_count": 2,
   "id": "72c70a7f",
   "metadata": {},
   "outputs": [],
   "source": []
  },
  {
   "cell_type": "code",
   "execution_count": 15,
   "id": "425c3d8a",
   "metadata": {},
   "outputs": [
    {
     "name": "stdout",
     "output_type": "stream",
     "text": [
      "Masukan angka kalian:s\n",
      "bukan angka\n",
      "Masukan angka kalian:a\n",
      "bukan angka\n",
      "Masukan angka kalian:h\n",
      "bukan angka\n",
      "Masukan angka kalian:2\n",
      "angka tebakan lebih kecil\n",
      "Masukan angka kalian:1\n",
      "angka tebakan lebih kecil\n",
      "Masukan angka kalian:3\n",
      "angka tebakan lebih kecil\n",
      "maaf, tebakan sudah habis\n"
     ]
    }
   ],
   "source": [
    "from random import randint\n",
    "\n",
    "i = randint(1, 10)\n",
    "akita = 0\n",
    "kesempatan = 3\n",
    "while akita != i and kesempatan > 0:\n",
    "    akita = input(\"Masukan angka kalian:\")\n",
    "    try:\n",
    "        akita = int(akita)\n",
    "        if akita < i:\n",
    "            print(\"angka tebakan lebih kecil\")\n",
    "            kesempatan -= 1\n",
    "        elif akita > i:\n",
    "            print(\"angka tebakan lebih besar\")\n",
    "            kesempatan -= 1\n",
    "        else:\n",
    "            print(\"tebakan benar\")\n",
    "    except:\n",
    "        print('bukan angka')\n",
    "if kesempatan ==0:\n",
    "        print(\"maaf, tebakan sudah habis\")\n",
    "\n",
    "    "
   ]
  },
  {
   "cell_type": "markdown",
   "id": "a0e23edf",
   "metadata": {},
   "source": [
    "###### "
   ]
  },
  {
   "cell_type": "code",
   "execution_count": 6,
   "id": "18cb8c40",
   "metadata": {},
   "outputs": [
    {
     "name": "stdout",
     "output_type": "stream",
     "text": [
      "arg = abc\n"
     ]
    }
   ],
   "source": [
    "import person\n",
    "person.name\n",
    "\n",
    "person.display(\"abc\")"
   ]
  },
  {
   "cell_type": "code",
   "execution_count": null,
   "id": "228b3a66",
   "metadata": {},
   "outputs": [],
   "source": []
  }
 ],
 "metadata": {
  "interpreter": {
   "hash": "14ea365952bdbae89a416bf9fb6d228665283457abcf209a32480eface1362a4"
  },
  "kernelspec": {
   "display_name": "Python 3.8.8 64-bit ('base': conda)",
   "language": "python",
   "name": "python3"
  },
  "language_info": {
   "codemirror_mode": {
    "name": "ipython",
    "version": 3
   },
   "file_extension": ".py",
   "mimetype": "text/x-python",
   "name": "python",
   "nbconvert_exporter": "python",
   "pygments_lexer": "ipython3",
   "version": "3.8.8"
  }
 },
 "nbformat": 4,
 "nbformat_minor": 5
}
