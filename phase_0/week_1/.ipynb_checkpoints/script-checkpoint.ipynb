{
 "cells": [
  {
   "cell_type": "markdown",
   "metadata": {},
   "source": [
    "# Hactiv8 Phase 0: Live Code 1"
   ]
  },
  {
   "cell_type": "markdown",
   "metadata": {},
   "source": [
    "By Rifky Aliffa Batch 008"
   ]
  },
  {
   "cell_type": "markdown",
   "metadata": {},
   "source": [
    "## Objectives\n",
    "\n"
   ]
  },
  {
   "cell_type": "markdown",
   "metadata": {},
   "source": [
    "1. Buatlah dua fungsi eksplisit masing-masing memuat perhitungan hambatan (R) dan daya (P) yang nantinya akan digunakan untuk perhitungan.\n",
    "2. Buat kolom baru dengan nama kolom R/P berisikan hasil perhitungan daya/hambatan dengan kriteria untuk Kapasitas >=2.5 hitung daya, Kapasitas <2.5 hitung nilai hambatan. (Hint: Gunakan for loop dan if statement untuk mengerjakan perintah nomor b, kamu bisa menggunakan list untuk menyimpan perhitungan sementara, setelahnya dapat dimasukkan ke kolom R/P).\n",
    "3. Hitunglah rata-rata nilai kapasitas untuk arus = 1 Ampere dan cycle ganjil.\n"
   ]
  },
  {
   "cell_type": "markdown",
   "metadata": {},
   "source": [
    "## Problems"
   ]
  },
  {
   "cell_type": "markdown",
   "metadata": {},
   "source": [
    "Kamu adalah seorang data scientist yang bekerja di salah satu perusahaan manufaktur baterai Lithium ion. Tim produksi meminta kamu untuk mengecek apakah baterai yang mereka buat dalam kondisi bagus atau tidak. Sebelum melakukan pengecekan lebih lanjut, kamu diminta untuk menghitung hambatan/resistansi dan Daya setiap detik:"
   ]
  },
  {
   "cell_type": "markdown",
   "metadata": {},
   "source": [
    "![rumus](https://camo.githubusercontent.com/65a4ab2624465aef953d58449a551d54a0322baba1fc3aeafebc0506e937e170/68747470733a2f2f6c617465782e636f6465636f67732e636f6d2f706e672e6c617465783f523d5c667261637b567d7b497d)"
   ]
  },
  {
   "cell_type": "markdown",
   "metadata": {},
   "source": [
    "![rumus](https://camo.githubusercontent.com/d6bc770edcd27e99961cb0ca5e61c0d8e130d915270441e584213eed3018f549/68747470733a2f2f6c617465782e636f6465636f67732e636f6d2f706e672e6c617465783f503d5649)"
   ]
  },
  {
   "cell_type": "markdown",
   "metadata": {},
   "source": [
    "- R adalah Kapasitas dalam satuan Ohm\n",
    "- P adalah Daya dalam Watt\n",
    "- I adalah kuat arus dalam satuan Ampere\n",
    "- V adalah tegangan dalam satuan Volt"
   ]
  },
  {
   "cell_type": "markdown",
   "metadata": {},
   "source": [
    "Keterangan kolom:\n",
    "- time(s): Detik ke- pengukuran\n",
    "- V_m: Voltage/tegangan yang terukur tiap waktu\n",
    "- Current (A): Kuat arus terukur tiap waktu\n",
    "- Cycle: Nomor siklus charge-discharge baterai\n",
    "- Cap: Kapasitas baterai tiap waktu"
   ]
  },
  {
   "cell_type": "markdown",
   "metadata": {},
   "source": [
    "## Import Library"
   ]
  },
  {
   "cell_type": "code",
   "execution_count": 1,
   "metadata": {},
   "outputs": [],
   "source": [
    "import pandas as pd\n",
    "import numpy as np"
   ]
  },
  {
   "cell_type": "markdown",
   "metadata": {},
   "source": [
    "## Load Data"
   ]
  },
  {
   "cell_type": "code",
   "execution_count": 2,
   "metadata": {},
   "outputs": [],
   "source": [
    "df = pd.read_excel('NMC1-9.xlsx', engine='openpyxl')"
   ]
  },
  {
   "cell_type": "code",
   "execution_count": 3,
   "metadata": {},
   "outputs": [
    {
     "data": {
      "text/html": [
       "<div>\n",
       "<style scoped>\n",
       "    .dataframe tbody tr th:only-of-type {\n",
       "        vertical-align: middle;\n",
       "    }\n",
       "\n",
       "    .dataframe tbody tr th {\n",
       "        vertical-align: top;\n",
       "    }\n",
       "\n",
       "    .dataframe thead th {\n",
       "        text-align: right;\n",
       "    }\n",
       "</style>\n",
       "<table border=\"1\" class=\"dataframe\">\n",
       "  <thead>\n",
       "    <tr style=\"text-align: right;\">\n",
       "      <th></th>\n",
       "      <th>time(s)</th>\n",
       "      <th>V_m</th>\n",
       "      <th>Current (A)</th>\n",
       "      <th>Cycle</th>\n",
       "      <th>Cap</th>\n",
       "    </tr>\n",
       "  </thead>\n",
       "  <tbody>\n",
       "    <tr>\n",
       "      <th>0</th>\n",
       "      <td>0</td>\n",
       "      <td>4.098</td>\n",
       "      <td>0.997</td>\n",
       "      <td>1</td>\n",
       "      <td>2.840817</td>\n",
       "    </tr>\n",
       "    <tr>\n",
       "      <th>1</th>\n",
       "      <td>1</td>\n",
       "      <td>4.096</td>\n",
       "      <td>0.998</td>\n",
       "      <td>1</td>\n",
       "      <td>2.840817</td>\n",
       "    </tr>\n",
       "    <tr>\n",
       "      <th>2</th>\n",
       "      <td>2</td>\n",
       "      <td>4.094</td>\n",
       "      <td>0.999</td>\n",
       "      <td>1</td>\n",
       "      <td>2.840817</td>\n",
       "    </tr>\n",
       "    <tr>\n",
       "      <th>3</th>\n",
       "      <td>3</td>\n",
       "      <td>4.093</td>\n",
       "      <td>0.998</td>\n",
       "      <td>1</td>\n",
       "      <td>2.840817</td>\n",
       "    </tr>\n",
       "    <tr>\n",
       "      <th>4</th>\n",
       "      <td>4</td>\n",
       "      <td>4.092</td>\n",
       "      <td>0.999</td>\n",
       "      <td>1</td>\n",
       "      <td>2.840817</td>\n",
       "    </tr>\n",
       "  </tbody>\n",
       "</table>\n",
       "</div>"
      ],
      "text/plain": [
       "   time(s)    V_m  Current (A)  Cycle       Cap\n",
       "0        0  4.098        0.997      1  2.840817\n",
       "1        1  4.096        0.998      1  2.840817\n",
       "2        2  4.094        0.999      1  2.840817\n",
       "3        3  4.093        0.998      1  2.840817\n",
       "4        4  4.092        0.999      1  2.840817"
      ]
     },
     "execution_count": 3,
     "metadata": {},
     "output_type": "execute_result"
    }
   ],
   "source": [
    "df.head()"
   ]
  },
  {
   "cell_type": "code",
   "execution_count": 4,
   "metadata": {},
   "outputs": [
    {
     "data": {
      "text/plain": [
       "Index(['time(s)', 'V_m', 'Current (A)', 'Cycle', 'Cap'], dtype='object')"
      ]
     },
     "execution_count": 4,
     "metadata": {},
     "output_type": "execute_result"
    }
   ],
   "source": [
    "df.columns"
   ]
  },
  {
   "cell_type": "markdown",
   "metadata": {},
   "source": [
    "### Data Characteristics"
   ]
  },
  {
   "cell_type": "code",
   "execution_count": 5,
   "metadata": {},
   "outputs": [
    {
     "name": "stdout",
     "output_type": "stream",
     "text": [
      "<class 'pandas.core.frame.DataFrame'>\n",
      "RangeIndex: 90982 entries, 0 to 90981\n",
      "Data columns (total 5 columns):\n",
      " #   Column       Non-Null Count  Dtype  \n",
      "---  ------       --------------  -----  \n",
      " 0   time(s)      90982 non-null  int64  \n",
      " 1   V_m          90982 non-null  float64\n",
      " 2   Current (A)  90982 non-null  float64\n",
      " 3   Cycle        90982 non-null  int64  \n",
      " 4   Cap          90982 non-null  float64\n",
      "dtypes: float64(3), int64(2)\n",
      "memory usage: 3.5 MB\n"
     ]
    }
   ],
   "source": [
    "df.info()"
   ]
  },
  {
   "cell_type": "code",
   "execution_count": 6,
   "metadata": {},
   "outputs": [
    {
     "data": {
      "text/html": [
       "<div>\n",
       "<style scoped>\n",
       "    .dataframe tbody tr th:only-of-type {\n",
       "        vertical-align: middle;\n",
       "    }\n",
       "\n",
       "    .dataframe tbody tr th {\n",
       "        vertical-align: top;\n",
       "    }\n",
       "\n",
       "    .dataframe thead th {\n",
       "        text-align: right;\n",
       "    }\n",
       "</style>\n",
       "<table border=\"1\" class=\"dataframe\">\n",
       "  <thead>\n",
       "    <tr style=\"text-align: right;\">\n",
       "      <th></th>\n",
       "      <th>count</th>\n",
       "      <th>mean</th>\n",
       "      <th>std</th>\n",
       "      <th>min</th>\n",
       "      <th>25%</th>\n",
       "      <th>50%</th>\n",
       "      <th>75%</th>\n",
       "      <th>max</th>\n",
       "    </tr>\n",
       "  </thead>\n",
       "  <tbody>\n",
       "    <tr>\n",
       "      <th>time(s)</th>\n",
       "      <td>90982.0</td>\n",
       "      <td>45490.500000</td>\n",
       "      <td>26264.385433</td>\n",
       "      <td>0.00000</td>\n",
       "      <td>22745.25000</td>\n",
       "      <td>45490.500000</td>\n",
       "      <td>68235.75000</td>\n",
       "      <td>90981.000000</td>\n",
       "    </tr>\n",
       "    <tr>\n",
       "      <th>V_m</th>\n",
       "      <td>90982.0</td>\n",
       "      <td>3.607666</td>\n",
       "      <td>0.322777</td>\n",
       "      <td>2.49700</td>\n",
       "      <td>3.42200</td>\n",
       "      <td>3.636000</td>\n",
       "      <td>3.86800</td>\n",
       "      <td>4.114000</td>\n",
       "    </tr>\n",
       "    <tr>\n",
       "      <th>Current (A)</th>\n",
       "      <td>90982.0</td>\n",
       "      <td>0.999264</td>\n",
       "      <td>0.001997</td>\n",
       "      <td>0.99300</td>\n",
       "      <td>0.99700</td>\n",
       "      <td>0.999000</td>\n",
       "      <td>1.00100</td>\n",
       "      <td>1.003000</td>\n",
       "    </tr>\n",
       "    <tr>\n",
       "      <th>Cycle</th>\n",
       "      <td>90982.0</td>\n",
       "      <td>4.978699</td>\n",
       "      <td>2.582135</td>\n",
       "      <td>1.00000</td>\n",
       "      <td>3.00000</td>\n",
       "      <td>5.000000</td>\n",
       "      <td>7.00000</td>\n",
       "      <td>9.000000</td>\n",
       "    </tr>\n",
       "    <tr>\n",
       "      <th>Cap</th>\n",
       "      <td>90982.0</td>\n",
       "      <td>2.806214</td>\n",
       "      <td>0.023283</td>\n",
       "      <td>2.77018</td>\n",
       "      <td>2.78686</td>\n",
       "      <td>2.804878</td>\n",
       "      <td>2.82352</td>\n",
       "      <td>2.840817</td>\n",
       "    </tr>\n",
       "  </tbody>\n",
       "</table>\n",
       "</div>"
      ],
      "text/plain": [
       "               count          mean           std      min          25%  \\\n",
       "time(s)      90982.0  45490.500000  26264.385433  0.00000  22745.25000   \n",
       "V_m          90982.0      3.607666      0.322777  2.49700      3.42200   \n",
       "Current (A)  90982.0      0.999264      0.001997  0.99300      0.99700   \n",
       "Cycle        90982.0      4.978699      2.582135  1.00000      3.00000   \n",
       "Cap          90982.0      2.806214      0.023283  2.77018      2.78686   \n",
       "\n",
       "                      50%          75%           max  \n",
       "time(s)      45490.500000  68235.75000  90981.000000  \n",
       "V_m              3.636000      3.86800      4.114000  \n",
       "Current (A)      0.999000      1.00100      1.003000  \n",
       "Cycle            5.000000      7.00000      9.000000  \n",
       "Cap              2.804878      2.82352      2.840817  "
      ]
     },
     "execution_count": 6,
     "metadata": {},
     "output_type": "execute_result"
    }
   ],
   "source": [
    "df.describe().T"
   ]
  },
  {
   "cell_type": "markdown",
   "metadata": {},
   "source": [
    "## Answer"
   ]
  },
  {
   "cell_type": "markdown",
   "metadata": {},
   "source": [
    "#### 1. Buatlah dua fungsi eksplisit masing-masing memuat perhitungan hambatan (R) dan daya (P) yang nantinya akan digunakan untuk perhitungan."
   ]
  },
  {
   "cell_type": "markdown",
   "metadata": {},
   "source": [
    "#### Fungsi Hambatan"
   ]
  },
  {
   "cell_type": "code",
   "execution_count": 7,
   "metadata": {},
   "outputs": [],
   "source": [
    "def resistance(v, i):\n",
    "    return v / i"
   ]
  },
  {
   "cell_type": "markdown",
   "metadata": {},
   "source": [
    "#### Fungsi Data"
   ]
  },
  {
   "cell_type": "code",
   "execution_count": 8,
   "metadata": {},
   "outputs": [],
   "source": [
    "def power(v, i):\n",
    "    return v * i"
   ]
  },
  {
   "cell_type": "markdown",
   "metadata": {},
   "source": [
    "#### 2. Buat kolom baru dengan nama kolom R/P berisikan hasil perhitungan daya/hambatan dengan kriteria untuk Kapasitas >=2.5 hitung daya, Kapasitas <2.5 hitung nilai hambatan. (Hint: Gunakan for loop dan if statement untuk mengerjakan perintah nomor b, kamu bisa menggunakan list untuk menyimpan perhitungan sementara, setelahnya dapat dimasukkan ke kolom R/P)."
   ]
  },
  {
   "cell_type": "markdown",
   "metadata": {},
   "source": [
    "Membuat kolom baru dengan nama ***R/P***"
   ]
  },
  {
   "cell_type": "code",
   "execution_count": 15,
   "metadata": {},
   "outputs": [],
   "source": [
    "df['R/P'] = ''"
   ]
  },
  {
   "cell_type": "code",
   "execution_count": 16,
   "metadata": {},
   "outputs": [
    {
     "data": {
      "text/html": [
       "<div>\n",
       "<style scoped>\n",
       "    .dataframe tbody tr th:only-of-type {\n",
       "        vertical-align: middle;\n",
       "    }\n",
       "\n",
       "    .dataframe tbody tr th {\n",
       "        vertical-align: top;\n",
       "    }\n",
       "\n",
       "    .dataframe thead th {\n",
       "        text-align: right;\n",
       "    }\n",
       "</style>\n",
       "<table border=\"1\" class=\"dataframe\">\n",
       "  <thead>\n",
       "    <tr style=\"text-align: right;\">\n",
       "      <th></th>\n",
       "      <th>time(s)</th>\n",
       "      <th>V_m</th>\n",
       "      <th>Current (A)</th>\n",
       "      <th>Cycle</th>\n",
       "      <th>Cap</th>\n",
       "      <th>R/P</th>\n",
       "    </tr>\n",
       "  </thead>\n",
       "  <tbody>\n",
       "    <tr>\n",
       "      <th>0</th>\n",
       "      <td>0</td>\n",
       "      <td>4.098</td>\n",
       "      <td>0.997</td>\n",
       "      <td>1</td>\n",
       "      <td>2.840817</td>\n",
       "      <td></td>\n",
       "    </tr>\n",
       "    <tr>\n",
       "      <th>1</th>\n",
       "      <td>1</td>\n",
       "      <td>4.096</td>\n",
       "      <td>0.998</td>\n",
       "      <td>1</td>\n",
       "      <td>2.840817</td>\n",
       "      <td></td>\n",
       "    </tr>\n",
       "    <tr>\n",
       "      <th>2</th>\n",
       "      <td>2</td>\n",
       "      <td>4.094</td>\n",
       "      <td>0.999</td>\n",
       "      <td>1</td>\n",
       "      <td>2.840817</td>\n",
       "      <td></td>\n",
       "    </tr>\n",
       "    <tr>\n",
       "      <th>3</th>\n",
       "      <td>3</td>\n",
       "      <td>4.093</td>\n",
       "      <td>0.998</td>\n",
       "      <td>1</td>\n",
       "      <td>2.840817</td>\n",
       "      <td></td>\n",
       "    </tr>\n",
       "    <tr>\n",
       "      <th>4</th>\n",
       "      <td>4</td>\n",
       "      <td>4.092</td>\n",
       "      <td>0.999</td>\n",
       "      <td>1</td>\n",
       "      <td>2.840817</td>\n",
       "      <td></td>\n",
       "    </tr>\n",
       "  </tbody>\n",
       "</table>\n",
       "</div>"
      ],
      "text/plain": [
       "   time(s)    V_m  Current (A)  Cycle       Cap R/P\n",
       "0        0  4.098        0.997      1  2.840817    \n",
       "1        1  4.096        0.998      1  2.840817    \n",
       "2        2  4.094        0.999      1  2.840817    \n",
       "3        3  4.093        0.998      1  2.840817    \n",
       "4        4  4.092        0.999      1  2.840817    "
      ]
     },
     "execution_count": 16,
     "metadata": {},
     "output_type": "execute_result"
    }
   ],
   "source": [
    "df.head()"
   ]
  },
  {
   "cell_type": "markdown",
   "metadata": {},
   "source": [
    "Kolom baru bernama ***R/P*** berhasil masuk menjadi kolom baru di dataframe."
   ]
  },
  {
   "cell_type": "code",
   "execution_count": 21,
   "metadata": {},
   "outputs": [
    {
     "name": "stderr",
     "output_type": "stream",
     "text": [
      "<ipython-input-21-273911803092>:4: SettingWithCopyWarning: \n",
      "A value is trying to be set on a copy of a slice from a DataFrame\n",
      "\n",
      "See the caveats in the documentation: https://pandas.pydata.org/pandas-docs/stable/user_guide/indexing.html#returning-a-view-versus-a-copy\n",
      "  df['R/P'][counter] = power(df['V_m'][counter], df['Current (A)'][counter]) # Memasukan nilai dari hasil hitung fungsi power kedalam kolom 'R/P'\n"
     ]
    }
   ],
   "source": [
    "counter = 0 # Menginisiasi variable counter untuk menjadi penunjuk index dataframe\n",
    "for i in df['Cap']: # Melakukan looping pada setiap value dari kolom 'Cap'\n",
    "    if i >= 2.5: # Kondisi jika value 'Cap' lebih dari atau sama dengan 2.5\n",
    "        df['R/P'][counter] = power(df['V_m'][counter], df['Current (A)'][counter]) # Memasukan nilai dari hasil hitung fungsi power kedalam kolom 'R/P'\n",
    "    else: # Kondisi jika value 'Cap' tidak lebih dari atau sama dengan 2.5\n",
    "        df['R/P'][counter] = resistance(df['V_m'][counter], df['Current (A)'][counter]) # Memasukan nilai dari hasil hitung fungsi resistance kedalam kolom 'R/P'\n",
    "    counter += 1 # Menambahkan variable counter dengan 1 untuk menunjuk ke index dataframe selanjutnya"
   ]
  },
  {
   "cell_type": "code",
   "execution_count": 22,
   "metadata": {},
   "outputs": [
    {
     "data": {
      "text/html": [
       "<div>\n",
       "<style scoped>\n",
       "    .dataframe tbody tr th:only-of-type {\n",
       "        vertical-align: middle;\n",
       "    }\n",
       "\n",
       "    .dataframe tbody tr th {\n",
       "        vertical-align: top;\n",
       "    }\n",
       "\n",
       "    .dataframe thead th {\n",
       "        text-align: right;\n",
       "    }\n",
       "</style>\n",
       "<table border=\"1\" class=\"dataframe\">\n",
       "  <thead>\n",
       "    <tr style=\"text-align: right;\">\n",
       "      <th></th>\n",
       "      <th>time(s)</th>\n",
       "      <th>V_m</th>\n",
       "      <th>Current (A)</th>\n",
       "      <th>Cycle</th>\n",
       "      <th>Cap</th>\n",
       "      <th>R/P</th>\n",
       "    </tr>\n",
       "  </thead>\n",
       "  <tbody>\n",
       "    <tr>\n",
       "      <th>0</th>\n",
       "      <td>0</td>\n",
       "      <td>4.098</td>\n",
       "      <td>0.997</td>\n",
       "      <td>1</td>\n",
       "      <td>2.840817</td>\n",
       "      <td>4.085706</td>\n",
       "    </tr>\n",
       "    <tr>\n",
       "      <th>1</th>\n",
       "      <td>1</td>\n",
       "      <td>4.096</td>\n",
       "      <td>0.998</td>\n",
       "      <td>1</td>\n",
       "      <td>2.840817</td>\n",
       "      <td>4.087808</td>\n",
       "    </tr>\n",
       "    <tr>\n",
       "      <th>2</th>\n",
       "      <td>2</td>\n",
       "      <td>4.094</td>\n",
       "      <td>0.999</td>\n",
       "      <td>1</td>\n",
       "      <td>2.840817</td>\n",
       "      <td>4.089906</td>\n",
       "    </tr>\n",
       "    <tr>\n",
       "      <th>3</th>\n",
       "      <td>3</td>\n",
       "      <td>4.093</td>\n",
       "      <td>0.998</td>\n",
       "      <td>1</td>\n",
       "      <td>2.840817</td>\n",
       "      <td>4.084814</td>\n",
       "    </tr>\n",
       "    <tr>\n",
       "      <th>4</th>\n",
       "      <td>4</td>\n",
       "      <td>4.092</td>\n",
       "      <td>0.999</td>\n",
       "      <td>1</td>\n",
       "      <td>2.840817</td>\n",
       "      <td>4.087908</td>\n",
       "    </tr>\n",
       "  </tbody>\n",
       "</table>\n",
       "</div>"
      ],
      "text/plain": [
       "   time(s)    V_m  Current (A)  Cycle       Cap       R/P\n",
       "0        0  4.098        0.997      1  2.840817  4.085706\n",
       "1        1  4.096        0.998      1  2.840817  4.087808\n",
       "2        2  4.094        0.999      1  2.840817  4.089906\n",
       "3        3  4.093        0.998      1  2.840817  4.084814\n",
       "4        4  4.092        0.999      1  2.840817  4.087908"
      ]
     },
     "execution_count": 22,
     "metadata": {},
     "output_type": "execute_result"
    }
   ],
   "source": [
    "df.head()"
   ]
  },
  {
   "cell_type": "code",
   "execution_count": 23,
   "metadata": {},
   "outputs": [
    {
     "data": {
      "text/html": [
       "<div>\n",
       "<style scoped>\n",
       "    .dataframe tbody tr th:only-of-type {\n",
       "        vertical-align: middle;\n",
       "    }\n",
       "\n",
       "    .dataframe tbody tr th {\n",
       "        vertical-align: top;\n",
       "    }\n",
       "\n",
       "    .dataframe thead th {\n",
       "        text-align: right;\n",
       "    }\n",
       "</style>\n",
       "<table border=\"1\" class=\"dataframe\">\n",
       "  <thead>\n",
       "    <tr style=\"text-align: right;\">\n",
       "      <th></th>\n",
       "      <th>time(s)</th>\n",
       "      <th>V_m</th>\n",
       "      <th>Current (A)</th>\n",
       "      <th>Cycle</th>\n",
       "      <th>Cap</th>\n",
       "      <th>R/P</th>\n",
       "    </tr>\n",
       "  </thead>\n",
       "  <tbody>\n",
       "    <tr>\n",
       "      <th>0</th>\n",
       "      <td>0</td>\n",
       "      <td>4.098</td>\n",
       "      <td>0.997</td>\n",
       "      <td>1</td>\n",
       "      <td>2.840817</td>\n",
       "      <td>4.085706</td>\n",
       "    </tr>\n",
       "    <tr>\n",
       "      <th>1</th>\n",
       "      <td>1</td>\n",
       "      <td>4.096</td>\n",
       "      <td>0.998</td>\n",
       "      <td>1</td>\n",
       "      <td>2.840817</td>\n",
       "      <td>4.087808</td>\n",
       "    </tr>\n",
       "    <tr>\n",
       "      <th>2</th>\n",
       "      <td>2</td>\n",
       "      <td>4.094</td>\n",
       "      <td>0.999</td>\n",
       "      <td>1</td>\n",
       "      <td>2.840817</td>\n",
       "      <td>4.089906</td>\n",
       "    </tr>\n",
       "    <tr>\n",
       "      <th>3</th>\n",
       "      <td>3</td>\n",
       "      <td>4.093</td>\n",
       "      <td>0.998</td>\n",
       "      <td>1</td>\n",
       "      <td>2.840817</td>\n",
       "      <td>4.084814</td>\n",
       "    </tr>\n",
       "    <tr>\n",
       "      <th>4</th>\n",
       "      <td>4</td>\n",
       "      <td>4.092</td>\n",
       "      <td>0.999</td>\n",
       "      <td>1</td>\n",
       "      <td>2.840817</td>\n",
       "      <td>4.087908</td>\n",
       "    </tr>\n",
       "    <tr>\n",
       "      <th>...</th>\n",
       "      <td>...</td>\n",
       "      <td>...</td>\n",
       "      <td>...</td>\n",
       "      <td>...</td>\n",
       "      <td>...</td>\n",
       "      <td>...</td>\n",
       "    </tr>\n",
       "    <tr>\n",
       "      <th>90977</th>\n",
       "      <td>90977</td>\n",
       "      <td>2.506</td>\n",
       "      <td>1.002</td>\n",
       "      <td>9</td>\n",
       "      <td>2.770180</td>\n",
       "      <td>2.511012</td>\n",
       "    </tr>\n",
       "    <tr>\n",
       "      <th>90978</th>\n",
       "      <td>90978</td>\n",
       "      <td>2.504</td>\n",
       "      <td>1.002</td>\n",
       "      <td>9</td>\n",
       "      <td>2.770180</td>\n",
       "      <td>2.509008</td>\n",
       "    </tr>\n",
       "    <tr>\n",
       "      <th>90979</th>\n",
       "      <td>90979</td>\n",
       "      <td>2.502</td>\n",
       "      <td>1.002</td>\n",
       "      <td>9</td>\n",
       "      <td>2.770180</td>\n",
       "      <td>2.507004</td>\n",
       "    </tr>\n",
       "    <tr>\n",
       "      <th>90980</th>\n",
       "      <td>90980</td>\n",
       "      <td>2.500</td>\n",
       "      <td>1.002</td>\n",
       "      <td>9</td>\n",
       "      <td>2.770180</td>\n",
       "      <td>2.505000</td>\n",
       "    </tr>\n",
       "    <tr>\n",
       "      <th>90981</th>\n",
       "      <td>90981</td>\n",
       "      <td>2.497</td>\n",
       "      <td>1.002</td>\n",
       "      <td>9</td>\n",
       "      <td>2.770180</td>\n",
       "      <td>2.501994</td>\n",
       "    </tr>\n",
       "  </tbody>\n",
       "</table>\n",
       "<p>90982 rows × 6 columns</p>\n",
       "</div>"
      ],
      "text/plain": [
       "       time(s)    V_m  Current (A)  Cycle       Cap       R/P\n",
       "0            0  4.098        0.997      1  2.840817  4.085706\n",
       "1            1  4.096        0.998      1  2.840817  4.087808\n",
       "2            2  4.094        0.999      1  2.840817  4.089906\n",
       "3            3  4.093        0.998      1  2.840817  4.084814\n",
       "4            4  4.092        0.999      1  2.840817  4.087908\n",
       "...        ...    ...          ...    ...       ...       ...\n",
       "90977    90977  2.506        1.002      9  2.770180  2.511012\n",
       "90978    90978  2.504        1.002      9  2.770180  2.509008\n",
       "90979    90979  2.502        1.002      9  2.770180  2.507004\n",
       "90980    90980  2.500        1.002      9  2.770180  2.505000\n",
       "90981    90981  2.497        1.002      9  2.770180  2.501994\n",
       "\n",
       "[90982 rows x 6 columns]"
      ]
     },
     "execution_count": 23,
     "metadata": {},
     "output_type": "execute_result"
    }
   ],
   "source": [
    "df[df['Cap'] >= 2.5]"
   ]
  },
  {
   "cell_type": "markdown",
   "metadata": {},
   "source": [
    "Karena pada info nilai paling rendah dari kolom 'Cap' adalah ***2.77018***, maka pada kolom 'R/P' pada dataframe akan terisi dengan hasil penghitungan dari daya."
   ]
  },
  {
   "cell_type": "markdown",
   "metadata": {},
   "source": [
    "#### 3. Hitunglah rata-rata nilai kapasitas untuk arus = 1 Ampere dan cycle ganjil."
   ]
  },
  {
   "cell_type": "code",
   "execution_count": 27,
   "metadata": {},
   "outputs": [
    {
     "data": {
      "text/html": [
       "<div>\n",
       "<style scoped>\n",
       "    .dataframe tbody tr th:only-of-type {\n",
       "        vertical-align: middle;\n",
       "    }\n",
       "\n",
       "    .dataframe tbody tr th {\n",
       "        vertical-align: top;\n",
       "    }\n",
       "\n",
       "    .dataframe thead th {\n",
       "        text-align: right;\n",
       "    }\n",
       "</style>\n",
       "<table border=\"1\" class=\"dataframe\">\n",
       "  <thead>\n",
       "    <tr style=\"text-align: right;\">\n",
       "      <th></th>\n",
       "      <th>time(s)</th>\n",
       "      <th>V_m</th>\n",
       "      <th>Current (A)</th>\n",
       "      <th>Cycle</th>\n",
       "      <th>Cap</th>\n",
       "      <th>R/P</th>\n",
       "    </tr>\n",
       "  </thead>\n",
       "  <tbody>\n",
       "    <tr>\n",
       "      <th>15</th>\n",
       "      <td>15</td>\n",
       "      <td>4.085</td>\n",
       "      <td>1.0</td>\n",
       "      <td>1</td>\n",
       "      <td>2.840817</td>\n",
       "      <td>4.085</td>\n",
       "    </tr>\n",
       "    <tr>\n",
       "      <th>19</th>\n",
       "      <td>19</td>\n",
       "      <td>4.083</td>\n",
       "      <td>1.0</td>\n",
       "      <td>1</td>\n",
       "      <td>2.840817</td>\n",
       "      <td>4.083</td>\n",
       "    </tr>\n",
       "    <tr>\n",
       "      <th>20</th>\n",
       "      <td>20</td>\n",
       "      <td>4.083</td>\n",
       "      <td>1.0</td>\n",
       "      <td>1</td>\n",
       "      <td>2.840817</td>\n",
       "      <td>4.083</td>\n",
       "    </tr>\n",
       "    <tr>\n",
       "      <th>21</th>\n",
       "      <td>21</td>\n",
       "      <td>4.082</td>\n",
       "      <td>1.0</td>\n",
       "      <td>1</td>\n",
       "      <td>2.840817</td>\n",
       "      <td>4.082</td>\n",
       "    </tr>\n",
       "    <tr>\n",
       "      <th>31</th>\n",
       "      <td>31</td>\n",
       "      <td>4.079</td>\n",
       "      <td>1.0</td>\n",
       "      <td>1</td>\n",
       "      <td>2.840817</td>\n",
       "      <td>4.079</td>\n",
       "    </tr>\n",
       "    <tr>\n",
       "      <th>...</th>\n",
       "      <td>...</td>\n",
       "      <td>...</td>\n",
       "      <td>...</td>\n",
       "      <td>...</td>\n",
       "      <td>...</td>\n",
       "      <td>...</td>\n",
       "    </tr>\n",
       "    <tr>\n",
       "      <th>90909</th>\n",
       "      <td>90909</td>\n",
       "      <td>2.640</td>\n",
       "      <td>1.0</td>\n",
       "      <td>9</td>\n",
       "      <td>2.770180</td>\n",
       "      <td>2.640</td>\n",
       "    </tr>\n",
       "    <tr>\n",
       "      <th>90923</th>\n",
       "      <td>90923</td>\n",
       "      <td>2.615</td>\n",
       "      <td>1.0</td>\n",
       "      <td>9</td>\n",
       "      <td>2.770180</td>\n",
       "      <td>2.615</td>\n",
       "    </tr>\n",
       "    <tr>\n",
       "      <th>90937</th>\n",
       "      <td>90937</td>\n",
       "      <td>2.589</td>\n",
       "      <td>1.0</td>\n",
       "      <td>9</td>\n",
       "      <td>2.770180</td>\n",
       "      <td>2.589</td>\n",
       "    </tr>\n",
       "    <tr>\n",
       "      <th>90949</th>\n",
       "      <td>90949</td>\n",
       "      <td>2.565</td>\n",
       "      <td>1.0</td>\n",
       "      <td>9</td>\n",
       "      <td>2.770180</td>\n",
       "      <td>2.565</td>\n",
       "    </tr>\n",
       "    <tr>\n",
       "      <th>90967</th>\n",
       "      <td>90967</td>\n",
       "      <td>2.528</td>\n",
       "      <td>1.0</td>\n",
       "      <td>9</td>\n",
       "      <td>2.770180</td>\n",
       "      <td>2.528</td>\n",
       "    </tr>\n",
       "  </tbody>\n",
       "</table>\n",
       "<p>6830 rows × 6 columns</p>\n",
       "</div>"
      ],
      "text/plain": [
       "       time(s)    V_m  Current (A)  Cycle       Cap    R/P\n",
       "15          15  4.085          1.0      1  2.840817  4.085\n",
       "19          19  4.083          1.0      1  2.840817  4.083\n",
       "20          20  4.083          1.0      1  2.840817  4.083\n",
       "21          21  4.082          1.0      1  2.840817  4.082\n",
       "31          31  4.079          1.0      1  2.840817  4.079\n",
       "...        ...    ...          ...    ...       ...    ...\n",
       "90909    90909  2.640          1.0      9  2.770180  2.640\n",
       "90923    90923  2.615          1.0      9  2.770180  2.615\n",
       "90937    90937  2.589          1.0      9  2.770180  2.589\n",
       "90949    90949  2.565          1.0      9  2.770180  2.565\n",
       "90967    90967  2.528          1.0      9  2.770180  2.528\n",
       "\n",
       "[6830 rows x 6 columns]"
      ]
     },
     "execution_count": 27,
     "metadata": {},
     "output_type": "execute_result"
    }
   ],
   "source": [
    "df[(df['Current (A)'] == 1) & (df['Cycle'] % 2 == 1)]"
   ]
  },
  {
   "cell_type": "code",
   "execution_count": 28,
   "metadata": {},
   "outputs": [
    {
     "name": "stdout",
     "output_type": "stream",
     "text": [
      "Cap Mean: 2.81\n"
     ]
    }
   ],
   "source": [
    "cap_mean = df[(df['Current (A)'] == 1) & (df['Cycle'] % 2 == 1)]['Cap'].mean()\n",
    "print(f'Cap Mean: {cap_mean:.2f}')"
   ]
  },
  {
   "cell_type": "markdown",
   "metadata": {},
   "source": [
    "Nilai rata-rata dari kapasitas untuk arus 1 Ampere dan cycle ganjil adalah ***2.81***."
   ]
  }
 ],
 "metadata": {
  "interpreter": {
   "hash": "aa9e1a1d5fc59c64a36ca54f7d8a22385cd9af1c34966b28ec5cc3b7d8afa19f"
  },
  "kernelspec": {
   "display_name": "Python 3",
   "language": "python",
   "name": "python3"
  },
  "language_info": {
   "codemirror_mode": {
    "name": "ipython",
    "version": 3
   },
   "file_extension": ".py",
   "mimetype": "text/x-python",
   "name": "python",
   "nbconvert_exporter": "python",
   "pygments_lexer": "ipython3",
   "version": "3.8.8"
  }
 },
 "nbformat": 4,
 "nbformat_minor": 2
}
