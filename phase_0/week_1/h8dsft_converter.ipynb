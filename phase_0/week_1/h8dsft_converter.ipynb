{
  "nbformat": 4,
  "nbformat_minor": 0,
  "metadata": {
    "colab": {
      "name": "h8dsft_converter.ipynb",
      "provenance": [],
      "collapsed_sections": []
    },
    "kernelspec": {
      "name": "python3",
      "display_name": "Python 3"
    },
    "language_info": {
      "name": "python"
    }
  },
  "cells": [
    {
      "cell_type": "code",
      "execution_count": 22,
      "metadata": {
        "colab": {
          "base_uri": "https://localhost:8080/"
        },
        "id": "CA82TmqOgNUM",
        "outputId": "5610f7e3-b105-4218-d846-1c2f1838cc81"
      },
      "outputs": [
        {
          "output_type": "stream",
          "name": "stdout",
          "text": [
            "Konversi suhu 5⁰C ke Kelvin =278.15K\n"
          ]
        }
      ],
      "source": [
        "def celcius2kelvin(celcius):\n",
        "  kelvin = celcius +273.15\n",
        "  return kelvin\n",
        "\n",
        "celcius = 5\n",
        "print(f\"Konversi suhu {celcius}⁰C ke Kelvin ={celcius2kelvin(celcius)} K\" )"
      ]
    },
    {
      "cell_type": "code",
      "source": [
        "def kelvin2celcius(kelvin):\n",
        "  celcius= kelvin -273.15\n",
        "  return celcius\n",
        "\n",
        "kelvin = 300\n",
        "print(f\"Konversi suhu {kelvin} K ke Kelvin ={kelvin2celcius(kelvin)}⁰C\" )"
      ],
      "metadata": {
        "colab": {
          "base_uri": "https://localhost:8080/"
        },
        "id": "GaVaXSBuiDnl",
        "outputId": "8df0eb0c-0106-4b7f-af48-6d115d1453e6"
      },
      "execution_count": 28,
      "outputs": [
        {
          "output_type": "stream",
          "name": "stdout",
          "text": [
            "Konversi suhu 300 K ke Kelvin =26.850000000000023⁰C\n"
          ]
        }
      ]
    },
    {
      "cell_type": "code",
      "source": [
        "def convert2fahrenheit(celcius, kelvin):\n",
        "  fahrenheit1= (1.8*celcius) +32\n",
        "  fahrenheit2= (1.8*kelvin) -459.67\n",
        "  return fahrenheit1, fahrenheit2\n",
        "\n",
        "\n",
        "c2f = convert2fahrenheit(32, 40)\n",
        "print(f\"Hasil konversi 32 C ke Fahrenheit = {c2f[0]} F\")\n",
        "print(f\"Hasil konversi 40 K ke Fahrenheit = {c2f[1]} F\")"
      ],
      "metadata": {
        "colab": {
          "base_uri": "https://localhost:8080/"
        },
        "id": "I7iqA2fLj5nE",
        "outputId": "b7f9b02c-1b59-46f8-8e83-a6f28498699f"
      },
      "execution_count": 61,
      "outputs": [
        {
          "output_type": "stream",
          "name": "stdout",
          "text": [
            "Hasil konversi 32 C ke Fahrenheit = 89.6 F\n",
            "Hasil konversi 40 K ke Fahrenheit = -387.67 F\n"
          ]
        }
      ]
    },
    {
      "cell_type": "code",
      "source": [
        "def from_fahrenheit(fahrenheit):\n",
        "  celcius= (fahrenheit-32) *5/9\n",
        "  kelvin= (fahrenheit-459.67) *5/9\n",
        "  return celcius, kelvin\n",
        "\n",
        "ftemp = 34\n",
        "c2f = from_fahrenheit(ftemp)\n",
        "print(f\"Hasil konversi {ftemp} F ke Celcius = {c2f[0]:.2f} F\")\n",
        "print(f\"Hasil konversi {ftemp} F ke Kelvin = {c2f[1]:.2f} F\")"
      ],
      "metadata": {
        "colab": {
          "base_uri": "https://localhost:8080/"
        },
        "id": "eTGgqEHtsD88",
        "outputId": "f63963e4-714a-47b5-de89-00225e5e2d83"
      },
      "execution_count": 67,
      "outputs": [
        {
          "output_type": "stream",
          "name": "stdout",
          "text": [
            "Hasil konversi 34 F ke Celcius = 1.11 F\n",
            "Hasil konversi 34 F ke Kelvin = -236.48 F\n"
          ]
        }
      ]
    }
  ]
}