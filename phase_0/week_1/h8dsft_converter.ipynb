{
  "cells": [
    {
      "cell_type": "code",
      "execution_count": 2,
      "metadata": {
        "colab": {
          "base_uri": "https://localhost:8080/"
        },
        "id": "CA82TmqOgNUM",
        "outputId": "bfe17ca8-e8fb-404b-a113-23d51d94f11d"
      },
      "outputs": [
        {
          "name": "stdout",
          "output_type": "stream",
          "text": [
            "Konversi suhu 5⁰C ke Kelvin =278.15 K\n"
          ]
        }
      ],
      "source": [
        "def celcius2kelvin(celcius):\n",
        "  '''\n",
        "  Mengubah Celcius menjadi kelvin\n",
        "  '''\n",
        "  kelvin = celcius +273.15 # mendefinisikan rumus celcius ke kelvin\n",
        "  return kelvin # mengembamlikan nilai kelvin ke baris pemanggil fungsi\n",
        "\n",
        "celcius = 5\n",
        "print(f\"Konversi suhu {celcius}⁰C ke Kelvin ={celcius2kelvin(celcius)} K\" )"
      ]
    },
    {
      "cell_type": "code",
      "execution_count": 69,
      "metadata": {
        "colab": {
          "base_uri": "https://localhost:8080/"
        },
        "id": "GaVaXSBuiDnl",
        "outputId": "104140a6-d389-4226-dee4-aafe7e9c96d5"
      },
      "outputs": [
        {
          "name": "stdout",
          "output_type": "stream",
          "text": [
            "Konversi suhu 300 K ke Kelvin =26.850000000000023⁰C\n"
          ]
        }
      ],
      "source": [
        "def kelvin2celcius(kelvin):\n",
        "  '''\n",
        "  Mengubah Kelvin ke Celcius\n",
        "  '''\n",
        "  celcius= kelvin -273.15 # mendefinisikan rumus kelvin ke celcius\n",
        "  return celcius\n",
        "\n",
        "kelvin = 300\n",
        "print(f\"Konversi suhu {kelvin} K ke Kelvin ={kelvin2celcius(kelvin)}⁰C\" )"
      ]
    },
    {
      "cell_type": "code",
      "execution_count": 70,
      "metadata": {
        "colab": {
          "base_uri": "https://localhost:8080/"
        },
        "id": "I7iqA2fLj5nE",
        "outputId": "6d62d8e1-2905-445b-8a26-8313bfa631b1"
      },
      "outputs": [
        {
          "name": "stdout",
          "output_type": "stream",
          "text": [
            "Hasil konversi 32 ⁰C ke Fahrenheit = 89.6⁰F\n",
            "Hasil konversi 40 K ke Fahrenheit = -387.67⁰F\n"
          ]
        }
      ],
      "source": [
        "def convert2fahrenheit(celcius, kelvin):\n",
        "  fahrenheit1= (1.8*celcius) +32\n",
        "  fahrenheit2= (1.8*kelvin) -459.67\n",
        "  return fahrenheit1, fahrenheit2\n",
        "\n",
        "\n",
        "c2f = convert2fahrenheit(32, 40)\n",
        "print(f\"Hasil konversi 32 ⁰C ke Fahrenheit = {c2f[0]}⁰F\")\n",
        "print(f\"Hasil konversi 40 K ke Fahrenheit = {c2f[1]}⁰F\")"
      ]
    },
    {
      "cell_type": "code",
      "execution_count": 71,
      "metadata": {
        "colab": {
          "base_uri": "https://localhost:8080/"
        },
        "id": "eTGgqEHtsD88",
        "outputId": "03dcfc16-b082-41fd-8b1a-d57b4ae26091"
      },
      "outputs": [
        {
          "name": "stdout",
          "output_type": "stream",
          "text": [
            "Hasil konversi 34⁰F ke Celcius = 1.11⁰C\n",
            "Hasil konversi 34⁰F ke Kelvin = -236.48 K\n"
          ]
        }
      ],
      "source": [
        "def from_fahrenheit(fahrenheit):\n",
        "  celcius= (fahrenheit-32) *5/9\n",
        "  kelvin= (fahrenheit-459.67) *5/9\n",
        "  return celcius, kelvin\n",
        "\n",
        "ftemp = 34\n",
        "c2f = from_fahrenheit(ftemp)\n",
        "print(f\"Hasil konversi {ftemp}⁰F ke Celcius = {c2f[0]:.2f}⁰C\")\n",
        "print(f\"Hasil konversi {ftemp}⁰F ke Kelvin = {c2f[1]:.2f} K\")"
      ]
    }
  ],
  "metadata": {
    "colab": {
      "collapsed_sections": [],
      "name": "h8dsft_converter.ipynb",
      "provenance": []
    },
    "kernelspec": {
      "display_name": "Python 3",
      "name": "python3"
    },
    "language_info": {
      "codemirror_mode": {
        "name": "ipython",
        "version": 3
      },
      "file_extension": ".py",
      "mimetype": "text/x-python",
      "name": "python",
      "nbconvert_exporter": "python",
      "pygments_lexer": "ipython3",
      "version": "3.8.8"
    }
  },
  "nbformat": 4,
  "nbformat_minor": 0
}
