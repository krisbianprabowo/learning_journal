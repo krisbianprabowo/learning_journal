{
 "cells": [
  {
   "cell_type": "markdown",
   "metadata": {},
   "source": [
    "# Graded Challenge 1\n",
    "\n",
    "Nama  : Krisbiantoro Prabowo\n",
    "\n",
    "Batch : 008\n"
   ]
  },
  {
   "cell_type": "markdown",
   "metadata": {},
   "source": [
    "## Description\n",
    "<hr>\n",
    "\n",
    "Dataset Pokemon memiliki 800 baris berisi 721 data pokemon termasuk evolusinya dimana informasi pokemon meliputi ID(#), name, first and second type, and basic stats: HP, Attack, Defense, Special Attack, Special Defense, and Speed. Tidak semua pokemon memiliki lebih dari satu jenis/tipe pokemon, oleh karena itu beberapa pokemon memiliki nilai kosong pada kolom tipe kedua\n",
    "\n",
    "### Objective\n",
    "\n",
    "1. Memuat dataset pokemon menggunakan pandas\n",
    "2. Menangani Missing Values dan Mengubah nama kolom agar pemanggilan nama kolom pada syntax lebih mudah untuk diingat\n",
    "3. Memanggil Query:\n",
    "    - Memanggil 5 teratas data pokemon bertipe `Rock` pada kolom Tipe 1 yang memiliki HP diatas rata-rata pada pokemon berjenis ini\n",
    "    - Memanggil 5 terbawah data pokemon legendary yang memiliki dua jenis/tipe dengan status attack dibawah rata-rata pokemon legendary\n",
    "    - Memanggil data pokemon generasi ke-2 dengan memiliki status speed yang paling rendah\n",
    "4. Melakukan Grouping dan Aggregating:\n",
    "    - Mengelompokkan Pokemon legendary berdasarkan tiap-tiap generasi\n",
    "    - Mengelompokkan Pokemon legendary yang terdapat pada generasi ke-3 berdasarkan jenis pada tipe 1 pokemon tersebut.\n",
    "    - Mengelompokkan 20 teratas Pokemon legendary yang memiliki speed tertinggi berdasarkan tipe 2 pokemon tersebut dengan catatan tipe 2 tidak boleh bernilai `none`\n",
    "5. Menampilkan hasil pengelompokkan pada poin ke 4 menggunakan grafik dalam bentuk bar\n",
    "6. Menarik Informasi/Kesimpulan Dari Keseluruhan Explorasi yang Dilakukan"
   ]
  },
  {
   "cell_type": "markdown",
   "metadata": {},
   "source": [
    "## Working Area\n",
    "<hr>"
   ]
  },
  {
   "cell_type": "markdown",
   "metadata": {},
   "source": [
    "### Import Library"
   ]
  },
  {
   "cell_type": "code",
   "execution_count": 1,
   "metadata": {},
   "outputs": [],
   "source": [
    "import pandas as pd"
   ]
  },
  {
   "cell_type": "markdown",
   "metadata": {},
   "source": [
    "### Data Loading"
   ]
  },
  {
   "cell_type": "code",
   "execution_count": 2,
   "metadata": {},
   "outputs": [
    {
     "data": {
      "text/html": [
       "<div>\n",
       "<style scoped>\n",
       "    .dataframe tbody tr th:only-of-type {\n",
       "        vertical-align: middle;\n",
       "    }\n",
       "\n",
       "    .dataframe tbody tr th {\n",
       "        vertical-align: top;\n",
       "    }\n",
       "\n",
       "    .dataframe thead th {\n",
       "        text-align: right;\n",
       "    }\n",
       "</style>\n",
       "<table border=\"1\" class=\"dataframe\">\n",
       "  <thead>\n",
       "    <tr style=\"text-align: right;\">\n",
       "      <th></th>\n",
       "      <th>#</th>\n",
       "      <th>Name</th>\n",
       "      <th>Type 1</th>\n",
       "      <th>Type 2</th>\n",
       "      <th>Total</th>\n",
       "      <th>HP</th>\n",
       "      <th>Attack</th>\n",
       "      <th>Defense</th>\n",
       "      <th>Sp. Atk</th>\n",
       "      <th>Sp. Def</th>\n",
       "      <th>Speed</th>\n",
       "      <th>Generation</th>\n",
       "      <th>Legendary</th>\n",
       "    </tr>\n",
       "  </thead>\n",
       "  <tbody>\n",
       "    <tr>\n",
       "      <th>0</th>\n",
       "      <td>1</td>\n",
       "      <td>Bulbasaur</td>\n",
       "      <td>Grass</td>\n",
       "      <td>Poison</td>\n",
       "      <td>318</td>\n",
       "      <td>45</td>\n",
       "      <td>49</td>\n",
       "      <td>49</td>\n",
       "      <td>65</td>\n",
       "      <td>65</td>\n",
       "      <td>45</td>\n",
       "      <td>1</td>\n",
       "      <td>False</td>\n",
       "    </tr>\n",
       "    <tr>\n",
       "      <th>1</th>\n",
       "      <td>2</td>\n",
       "      <td>Ivysaur</td>\n",
       "      <td>Grass</td>\n",
       "      <td>Poison</td>\n",
       "      <td>405</td>\n",
       "      <td>60</td>\n",
       "      <td>62</td>\n",
       "      <td>63</td>\n",
       "      <td>80</td>\n",
       "      <td>80</td>\n",
       "      <td>60</td>\n",
       "      <td>1</td>\n",
       "      <td>False</td>\n",
       "    </tr>\n",
       "    <tr>\n",
       "      <th>2</th>\n",
       "      <td>3</td>\n",
       "      <td>Venusaur</td>\n",
       "      <td>Grass</td>\n",
       "      <td>Poison</td>\n",
       "      <td>525</td>\n",
       "      <td>80</td>\n",
       "      <td>82</td>\n",
       "      <td>83</td>\n",
       "      <td>100</td>\n",
       "      <td>100</td>\n",
       "      <td>80</td>\n",
       "      <td>1</td>\n",
       "      <td>False</td>\n",
       "    </tr>\n",
       "    <tr>\n",
       "      <th>3</th>\n",
       "      <td>3</td>\n",
       "      <td>VenusaurMega Venusaur</td>\n",
       "      <td>Grass</td>\n",
       "      <td>Poison</td>\n",
       "      <td>625</td>\n",
       "      <td>80</td>\n",
       "      <td>100</td>\n",
       "      <td>123</td>\n",
       "      <td>122</td>\n",
       "      <td>120</td>\n",
       "      <td>80</td>\n",
       "      <td>1</td>\n",
       "      <td>False</td>\n",
       "    </tr>\n",
       "    <tr>\n",
       "      <th>4</th>\n",
       "      <td>4</td>\n",
       "      <td>Charmander</td>\n",
       "      <td>Fire</td>\n",
       "      <td>NaN</td>\n",
       "      <td>309</td>\n",
       "      <td>39</td>\n",
       "      <td>52</td>\n",
       "      <td>43</td>\n",
       "      <td>60</td>\n",
       "      <td>50</td>\n",
       "      <td>65</td>\n",
       "      <td>1</td>\n",
       "      <td>False</td>\n",
       "    </tr>\n",
       "  </tbody>\n",
       "</table>\n",
       "</div>"
      ],
      "text/plain": [
       "   #                   Name Type 1  Type 2  Total  HP  Attack  Defense  \\\n",
       "0  1              Bulbasaur  Grass  Poison    318  45      49       49   \n",
       "1  2                Ivysaur  Grass  Poison    405  60      62       63   \n",
       "2  3               Venusaur  Grass  Poison    525  80      82       83   \n",
       "3  3  VenusaurMega Venusaur  Grass  Poison    625  80     100      123   \n",
       "4  4             Charmander   Fire     NaN    309  39      52       43   \n",
       "\n",
       "   Sp. Atk  Sp. Def  Speed  Generation  Legendary  \n",
       "0       65       65     45           1      False  \n",
       "1       80       80     60           1      False  \n",
       "2      100      100     80           1      False  \n",
       "3      122      120     80           1      False  \n",
       "4       60       50     65           1      False  "
      ]
     },
     "execution_count": 2,
     "metadata": {},
     "output_type": "execute_result"
    }
   ],
   "source": [
    "pk = pd.read_csv(\"dataset/pokemon.csv\")\n",
    "\n",
    "pk.head()"
   ]
  },
  {
   "cell_type": "markdown",
   "metadata": {},
   "source": [
    "### Detailed Information"
   ]
  },
  {
   "cell_type": "code",
   "execution_count": 3,
   "metadata": {},
   "outputs": [
    {
     "name": "stdout",
     "output_type": "stream",
     "text": [
      "<class 'pandas.core.frame.DataFrame'>\n",
      "RangeIndex: 800 entries, 0 to 799\n",
      "Data columns (total 13 columns):\n",
      " #   Column      Non-Null Count  Dtype \n",
      "---  ------      --------------  ----- \n",
      " 0   #           800 non-null    int64 \n",
      " 1   Name        800 non-null    object\n",
      " 2   Type 1      800 non-null    object\n",
      " 3   Type 2      414 non-null    object\n",
      " 4   Total       800 non-null    int64 \n",
      " 5   HP          800 non-null    int64 \n",
      " 6   Attack      800 non-null    int64 \n",
      " 7   Defense     800 non-null    int64 \n",
      " 8   Sp. Atk     800 non-null    int64 \n",
      " 9   Sp. Def     800 non-null    int64 \n",
      " 10  Speed       800 non-null    int64 \n",
      " 11  Generation  800 non-null    int64 \n",
      " 12  Legendary   800 non-null    bool  \n",
      "dtypes: bool(1), int64(9), object(3)\n",
      "memory usage: 75.9+ KB\n"
     ]
    }
   ],
   "source": [
    "pk.info()"
   ]
  },
  {
   "cell_type": "markdown",
   "metadata": {},
   "source": [
    "### Handle Missing Values\n",
    "\n",
    "baris pada `type_2` yang masih kosong dapat diisi dengan `none` agar seluruh kolom memiliki jumlah baris data yang sama."
   ]
  },
  {
   "cell_type": "code",
   "execution_count": 4,
   "metadata": {},
   "outputs": [
    {
     "name": "stdout",
     "output_type": "stream",
     "text": [
      "<class 'pandas.core.frame.DataFrame'>\n",
      "RangeIndex: 800 entries, 0 to 799\n",
      "Data columns (total 13 columns):\n",
      " #   Column      Non-Null Count  Dtype \n",
      "---  ------      --------------  ----- \n",
      " 0   #           800 non-null    int64 \n",
      " 1   Name        800 non-null    object\n",
      " 2   Type 1      800 non-null    object\n",
      " 3   Type 2      800 non-null    object\n",
      " 4   Total       800 non-null    int64 \n",
      " 5   HP          800 non-null    int64 \n",
      " 6   Attack      800 non-null    int64 \n",
      " 7   Defense     800 non-null    int64 \n",
      " 8   Sp. Atk     800 non-null    int64 \n",
      " 9   Sp. Def     800 non-null    int64 \n",
      " 10  Speed       800 non-null    int64 \n",
      " 11  Generation  800 non-null    int64 \n",
      " 12  Legendary   800 non-null    bool  \n",
      "dtypes: bool(1), int64(9), object(3)\n",
      "memory usage: 75.9+ KB\n"
     ]
    }
   ],
   "source": [
    "pk['Type 2'].fillna(\n",
    "    value=\"None\",\n",
    "    inplace=True\n",
    ")\n",
    "\n",
    "pk.head()\n",
    "\n",
    "pk.info()"
   ]
  },
  {
   "cell_type": "markdown",
   "metadata": {},
   "source": [
    "### Columns Manipulate\n",
    "\n",
    "pada manipulasi kolom, nama kolom diubah menjadi format `nama_kolom` (semua huruf kecil dengan pemisah menggunakan **_**) agar pemanggilan kolom dapat lebih mudah diingat. Kolom-kolom seperti `defense, sp.Atk, sp.Def, total` juga dihapus karena tidak dibutuhkan dalam pemanggilan query kedepannya."
   ]
  },
  {
   "cell_type": "code",
   "execution_count": 5,
   "metadata": {},
   "outputs": [],
   "source": [
    "name2change = {\n",
    "    \"Name\":\"name\",\n",
    "    \"Type 1\": \"type_1\",\n",
    "    \"Type 2\": \"type_2\",\n",
    "    \"Total\": \"total\",\n",
    "    \"HP\": \"hp\",\n",
    "    \"Attack\": \"attack\",\n",
    "    \"Defense\": \"defense\",\n",
    "    \"Sp. Atk\": \"sp_attack\",\n",
    "    \"Sp. Def\": \"sp_def\",\n",
    "    \"Speed\": \"speed\",\n",
    "    \"Generation\": \"generation\",\n",
    "    \"Legendary\": \"legendary\"\n",
    "}\n",
    "\n",
    "pk.rename(columns=name2change, inplace=True)\n",
    "\n",
    "column2drop=[\"defense\",\"sp_attack\",\"sp_def\",\"total\"]\n",
    "pk.drop(column2drop, inplace=True, axis=1)\n"
   ]
  },
  {
   "cell_type": "markdown",
   "metadata": {},
   "source": [
    "Memastikan bahwa semua nama kolom sudah berhasil diubah dan kolom yang tidak dibutuhkan juga sudah berhasil dihapuskan"
   ]
  },
  {
   "cell_type": "code",
   "execution_count": 6,
   "metadata": {},
   "outputs": [
    {
     "data": {
      "text/html": [
       "<div>\n",
       "<style scoped>\n",
       "    .dataframe tbody tr th:only-of-type {\n",
       "        vertical-align: middle;\n",
       "    }\n",
       "\n",
       "    .dataframe tbody tr th {\n",
       "        vertical-align: top;\n",
       "    }\n",
       "\n",
       "    .dataframe thead th {\n",
       "        text-align: right;\n",
       "    }\n",
       "</style>\n",
       "<table border=\"1\" class=\"dataframe\">\n",
       "  <thead>\n",
       "    <tr style=\"text-align: right;\">\n",
       "      <th></th>\n",
       "      <th>#</th>\n",
       "      <th>name</th>\n",
       "      <th>type_1</th>\n",
       "      <th>type_2</th>\n",
       "      <th>hp</th>\n",
       "      <th>attack</th>\n",
       "      <th>speed</th>\n",
       "      <th>generation</th>\n",
       "      <th>legendary</th>\n",
       "    </tr>\n",
       "  </thead>\n",
       "  <tbody>\n",
       "    <tr>\n",
       "      <th>0</th>\n",
       "      <td>1</td>\n",
       "      <td>Bulbasaur</td>\n",
       "      <td>Grass</td>\n",
       "      <td>Poison</td>\n",
       "      <td>45</td>\n",
       "      <td>49</td>\n",
       "      <td>45</td>\n",
       "      <td>1</td>\n",
       "      <td>False</td>\n",
       "    </tr>\n",
       "    <tr>\n",
       "      <th>1</th>\n",
       "      <td>2</td>\n",
       "      <td>Ivysaur</td>\n",
       "      <td>Grass</td>\n",
       "      <td>Poison</td>\n",
       "      <td>60</td>\n",
       "      <td>62</td>\n",
       "      <td>60</td>\n",
       "      <td>1</td>\n",
       "      <td>False</td>\n",
       "    </tr>\n",
       "    <tr>\n",
       "      <th>2</th>\n",
       "      <td>3</td>\n",
       "      <td>Venusaur</td>\n",
       "      <td>Grass</td>\n",
       "      <td>Poison</td>\n",
       "      <td>80</td>\n",
       "      <td>82</td>\n",
       "      <td>80</td>\n",
       "      <td>1</td>\n",
       "      <td>False</td>\n",
       "    </tr>\n",
       "    <tr>\n",
       "      <th>3</th>\n",
       "      <td>3</td>\n",
       "      <td>VenusaurMega Venusaur</td>\n",
       "      <td>Grass</td>\n",
       "      <td>Poison</td>\n",
       "      <td>80</td>\n",
       "      <td>100</td>\n",
       "      <td>80</td>\n",
       "      <td>1</td>\n",
       "      <td>False</td>\n",
       "    </tr>\n",
       "    <tr>\n",
       "      <th>4</th>\n",
       "      <td>4</td>\n",
       "      <td>Charmander</td>\n",
       "      <td>Fire</td>\n",
       "      <td>None</td>\n",
       "      <td>39</td>\n",
       "      <td>52</td>\n",
       "      <td>65</td>\n",
       "      <td>1</td>\n",
       "      <td>False</td>\n",
       "    </tr>\n",
       "  </tbody>\n",
       "</table>\n",
       "</div>"
      ],
      "text/plain": [
       "   #                   name type_1  type_2  hp  attack  speed  generation  \\\n",
       "0  1              Bulbasaur  Grass  Poison  45      49     45           1   \n",
       "1  2                Ivysaur  Grass  Poison  60      62     60           1   \n",
       "2  3               Venusaur  Grass  Poison  80      82     80           1   \n",
       "3  3  VenusaurMega Venusaur  Grass  Poison  80     100     80           1   \n",
       "4  4             Charmander   Fire    None  39      52     65           1   \n",
       "\n",
       "   legendary  \n",
       "0      False  \n",
       "1      False  \n",
       "2      False  \n",
       "3      False  \n",
       "4      False  "
      ]
     },
     "execution_count": 6,
     "metadata": {},
     "output_type": "execute_result"
    }
   ],
   "source": [
    "pk.head()"
   ]
  },
  {
   "cell_type": "markdown",
   "metadata": {},
   "source": [
    "### Data Query"
   ]
  },
  {
   "cell_type": "markdown",
   "metadata": {},
   "source": [
    "- Memanggil 5 teratas data pokemon bertipe `Rock` pada kolom Tipe 1 yang memiliki HP diatas rata-rata pada pokemon berjenis ini"
   ]
  },
  {
   "cell_type": "code",
   "execution_count": 7,
   "metadata": {},
   "outputs": [
    {
     "name": "stdout",
     "output_type": "stream",
     "text": [
      "Rata-rata HP Pokemon bertipe 'Rock': 65.36363636363636\n"
     ]
    },
    {
     "data": {
      "text/html": [
       "<div>\n",
       "<style scoped>\n",
       "    .dataframe tbody tr th:only-of-type {\n",
       "        vertical-align: middle;\n",
       "    }\n",
       "\n",
       "    .dataframe tbody tr th {\n",
       "        vertical-align: top;\n",
       "    }\n",
       "\n",
       "    .dataframe thead th {\n",
       "        text-align: right;\n",
       "    }\n",
       "</style>\n",
       "<table border=\"1\" class=\"dataframe\">\n",
       "  <thead>\n",
       "    <tr style=\"text-align: right;\">\n",
       "      <th></th>\n",
       "      <th>#</th>\n",
       "      <th>name</th>\n",
       "      <th>type_1</th>\n",
       "      <th>type_2</th>\n",
       "      <th>hp</th>\n",
       "      <th>attack</th>\n",
       "      <th>speed</th>\n",
       "      <th>generation</th>\n",
       "      <th>legendary</th>\n",
       "    </tr>\n",
       "  </thead>\n",
       "  <tbody>\n",
       "    <tr>\n",
       "      <th>769</th>\n",
       "      <td>699</td>\n",
       "      <td>Aurorus</td>\n",
       "      <td>Rock</td>\n",
       "      <td>Ice</td>\n",
       "      <td>123</td>\n",
       "      <td>77</td>\n",
       "      <td>58</td>\n",
       "      <td>6</td>\n",
       "      <td>False</td>\n",
       "    </tr>\n",
       "    <tr>\n",
       "      <th>267</th>\n",
       "      <td>248</td>\n",
       "      <td>Tyranitar</td>\n",
       "      <td>Rock</td>\n",
       "      <td>Dark</td>\n",
       "      <td>100</td>\n",
       "      <td>134</td>\n",
       "      <td>61</td>\n",
       "      <td>2</td>\n",
       "      <td>False</td>\n",
       "    </tr>\n",
       "    <tr>\n",
       "      <th>268</th>\n",
       "      <td>248</td>\n",
       "      <td>TyranitarMega Tyranitar</td>\n",
       "      <td>Rock</td>\n",
       "      <td>Dark</td>\n",
       "      <td>100</td>\n",
       "      <td>164</td>\n",
       "      <td>71</td>\n",
       "      <td>2</td>\n",
       "      <td>False</td>\n",
       "    </tr>\n",
       "    <tr>\n",
       "      <th>454</th>\n",
       "      <td>409</td>\n",
       "      <td>Rampardos</td>\n",
       "      <td>Rock</td>\n",
       "      <td>None</td>\n",
       "      <td>97</td>\n",
       "      <td>165</td>\n",
       "      <td>58</td>\n",
       "      <td>4</td>\n",
       "      <td>False</td>\n",
       "    </tr>\n",
       "    <tr>\n",
       "      <th>700</th>\n",
       "      <td>639</td>\n",
       "      <td>Terrakion</td>\n",
       "      <td>Rock</td>\n",
       "      <td>Fighting</td>\n",
       "      <td>91</td>\n",
       "      <td>129</td>\n",
       "      <td>108</td>\n",
       "      <td>5</td>\n",
       "      <td>True</td>\n",
       "    </tr>\n",
       "  </tbody>\n",
       "</table>\n",
       "</div>"
      ],
      "text/plain": [
       "       #                     name type_1    type_2   hp  attack  speed  \\\n",
       "769  699                  Aurorus   Rock       Ice  123      77     58   \n",
       "267  248                Tyranitar   Rock      Dark  100     134     61   \n",
       "268  248  TyranitarMega Tyranitar   Rock      Dark  100     164     71   \n",
       "454  409                Rampardos   Rock      None   97     165     58   \n",
       "700  639                Terrakion   Rock  Fighting   91     129    108   \n",
       "\n",
       "     generation  legendary  \n",
       "769           6      False  \n",
       "267           2      False  \n",
       "268           2      False  \n",
       "454           4      False  \n",
       "700           5       True  "
      ]
     },
     "execution_count": 7,
     "metadata": {},
     "output_type": "execute_result"
    }
   ],
   "source": [
    "mean_hp = pk['hp'][(pk['type_1'] =='Rock')].mean()\n",
    "print(\"Rata-rata HP Pokemon bertipe 'Rock':\", mean_hp)\n",
    "\n",
    "pk.query(f\"type_1=='Rock' & hp >= {mean_hp}\").sort_values('hp', ascending=False).iloc[:5]"
   ]
  },
  {
   "cell_type": "markdown",
   "metadata": {},
   "source": [
    "- Memanggil 5 terbawah data pokemon legendary yang memiliki dua jenis/tipe dengan status attack dibawah rata-rata pokemon legendary"
   ]
  },
  {
   "cell_type": "code",
   "execution_count": 8,
   "metadata": {},
   "outputs": [
    {
     "name": "stdout",
     "output_type": "stream",
     "text": [
      "Rata-rata ATK Pokemon Legendary:  116.67692307692307\n"
     ]
    },
    {
     "data": {
      "text/html": [
       "<div>\n",
       "<style scoped>\n",
       "    .dataframe tbody tr th:only-of-type {\n",
       "        vertical-align: middle;\n",
       "    }\n",
       "\n",
       "    .dataframe tbody tr th {\n",
       "        vertical-align: top;\n",
       "    }\n",
       "\n",
       "    .dataframe thead th {\n",
       "        text-align: right;\n",
       "    }\n",
       "</style>\n",
       "<table border=\"1\" class=\"dataframe\">\n",
       "  <thead>\n",
       "    <tr style=\"text-align: right;\">\n",
       "      <th></th>\n",
       "      <th>#</th>\n",
       "      <th>name</th>\n",
       "      <th>type_1</th>\n",
       "      <th>type_2</th>\n",
       "      <th>hp</th>\n",
       "      <th>attack</th>\n",
       "      <th>speed</th>\n",
       "      <th>generation</th>\n",
       "      <th>legendary</th>\n",
       "    </tr>\n",
       "  </thead>\n",
       "  <tbody>\n",
       "    <tr>\n",
       "      <th>415</th>\n",
       "      <td>378</td>\n",
       "      <td>Regice</td>\n",
       "      <td>Ice</td>\n",
       "      <td>None</td>\n",
       "      <td>80</td>\n",
       "      <td>50</td>\n",
       "      <td>50</td>\n",
       "      <td>3</td>\n",
       "      <td>True</td>\n",
       "    </tr>\n",
       "    <tr>\n",
       "      <th>430</th>\n",
       "      <td>386</td>\n",
       "      <td>DeoxysDefense Forme</td>\n",
       "      <td>Psychic</td>\n",
       "      <td>None</td>\n",
       "      <td>50</td>\n",
       "      <td>70</td>\n",
       "      <td>90</td>\n",
       "      <td>3</td>\n",
       "      <td>True</td>\n",
       "    </tr>\n",
       "    <tr>\n",
       "      <th>264</th>\n",
       "      <td>245</td>\n",
       "      <td>Suicune</td>\n",
       "      <td>Water</td>\n",
       "      <td>None</td>\n",
       "      <td>100</td>\n",
       "      <td>75</td>\n",
       "      <td>85</td>\n",
       "      <td>2</td>\n",
       "      <td>True</td>\n",
       "    </tr>\n",
       "    <tr>\n",
       "      <th>416</th>\n",
       "      <td>379</td>\n",
       "      <td>Registeel</td>\n",
       "      <td>Steel</td>\n",
       "      <td>None</td>\n",
       "      <td>80</td>\n",
       "      <td>75</td>\n",
       "      <td>50</td>\n",
       "      <td>3</td>\n",
       "      <td>True</td>\n",
       "    </tr>\n",
       "    <tr>\n",
       "      <th>537</th>\n",
       "      <td>480</td>\n",
       "      <td>Uxie</td>\n",
       "      <td>Psychic</td>\n",
       "      <td>None</td>\n",
       "      <td>75</td>\n",
       "      <td>75</td>\n",
       "      <td>95</td>\n",
       "      <td>4</td>\n",
       "      <td>True</td>\n",
       "    </tr>\n",
       "  </tbody>\n",
       "</table>\n",
       "</div>"
      ],
      "text/plain": [
       "       #                 name   type_1 type_2   hp  attack  speed  generation  \\\n",
       "415  378               Regice      Ice   None   80      50     50           3   \n",
       "430  386  DeoxysDefense Forme  Psychic   None   50      70     90           3   \n",
       "264  245              Suicune    Water   None  100      75     85           2   \n",
       "416  379            Registeel    Steel   None   80      75     50           3   \n",
       "537  480                 Uxie  Psychic   None   75      75     95           4   \n",
       "\n",
       "     legendary  \n",
       "415       True  \n",
       "430       True  \n",
       "264       True  \n",
       "416       True  \n",
       "537       True  "
      ]
     },
     "execution_count": 8,
     "metadata": {},
     "output_type": "execute_result"
    }
   ],
   "source": [
    "mean_attack = pk['attack'][(pk['legendary'] ==True)].mean()\n",
    "print(\"Rata-rata ATK Pokemon Legendary: \",mean_attack)\n",
    "\n",
    "pk.query(f\"legendary==True & type_2 == 'None' & attack <{mean_attack}\").sort_values('attack', ascending=True).iloc[:5]"
   ]
  },
  {
   "cell_type": "markdown",
   "metadata": {},
   "source": [
    "- Memanggil data pokemon generasi ke-2 dengan memiliki status speed yang paling rendah"
   ]
  },
  {
   "cell_type": "code",
   "execution_count": 9,
   "metadata": {},
   "outputs": [
    {
     "data": {
      "text/plain": [
       "#                 213\n",
       "name          Shuckle\n",
       "type_1            Bug\n",
       "type_2           Rock\n",
       "hp                 20\n",
       "attack             10\n",
       "speed               5\n",
       "generation          2\n",
       "legendary       False\n",
       "Name: 230, dtype: object"
      ]
     },
     "execution_count": 9,
     "metadata": {},
     "output_type": "execute_result"
    }
   ],
   "source": [
    "pk.query(f\"{pk['speed'][(pk['generation']==2)].idxmin()}\")"
   ]
  },
  {
   "cell_type": "markdown",
   "metadata": {},
   "source": [
    "### Grouping & Aggregation\n",
    "\n",
    "- Mengelompokkan Pokemon legendary berdasarkan tiap-tiap generasi"
   ]
  },
  {
   "cell_type": "code",
   "execution_count": 10,
   "metadata": {},
   "outputs": [
    {
     "data": {
      "text/plain": [
       "generation\n",
       "1     6\n",
       "2     5\n",
       "3    18\n",
       "4    13\n",
       "5    15\n",
       "6     8\n",
       "Name: generation, dtype: int64"
      ]
     },
     "execution_count": 10,
     "metadata": {},
     "output_type": "execute_result"
    }
   ],
   "source": [
    "import matplotlib.pyplot as plt\n",
    "pk.query(\"legendary==True\").groupby('generation')['generation'].count()\n"
   ]
  },
  {
   "cell_type": "code",
   "execution_count": 11,
   "metadata": {},
   "outputs": [
    {
     "data": {
      "text/plain": [
       "<AxesSubplot:xlabel='generation'>"
      ]
     },
     "execution_count": 11,
     "metadata": {},
     "output_type": "execute_result"
    },
    {
     "data": {
      "image/png": "[encoded data removed]",
      "text/plain": [
       "<Figure size 432x288 with 1 Axes>"
      ]
     },
     "metadata": {
      "needs_background": "light"
     },
     "output_type": "display_data"
    }
   ],
   "source": [
    "pk.query(\"legendary==True\").groupby('generation')['generation'].count().plot(kind=\"bar\")"
   ]
  },
  {
   "cell_type": "markdown",
   "metadata": {},
   "source": [
    "- Mengelompokkan Pokemon legendary yang terdapat pada generasi ke-3 berdasarkan jenis pada tipe 1 pokemon tersebut."
   ]
  },
  {
   "cell_type": "code",
   "execution_count": 12,
   "metadata": {},
   "outputs": [
    {
     "data": {
      "text/plain": [
       "type_1\n",
       "Dragon     6\n",
       "Ground     2\n",
       "Ice        1\n",
       "Psychic    4\n",
       "Rock       1\n",
       "Steel      2\n",
       "Water      2\n",
       "Name: type_1, dtype: int64"
      ]
     },
     "execution_count": 12,
     "metadata": {},
     "output_type": "execute_result"
    }
   ],
   "source": [
    "pk.query(\"legendary==True & generation==3\").groupby(['type_1'])['type_1'].count()"
   ]
  },
  {
   "cell_type": "code",
   "execution_count": 13,
   "metadata": {},
   "outputs": [
    {
     "data": {
      "text/plain": [
       "<AxesSubplot:xlabel='type_1'>"
      ]
     },
     "execution_count": 13,
     "metadata": {},
     "output_type": "execute_result"
    },
    {
     "data": {
      "image/png": "[encoded data removed]",
      "text/plain": [
       "<Figure size 432x288 with 1 Axes>"
      ]
     },
     "metadata": {
      "needs_background": "light"
     },
     "output_type": "display_data"
    }
   ],
   "source": [
    "pk.query(\"legendary==True & generation==3\").groupby(['type_1'])['type_1'].count().plot(kind=\"bar\")"
   ]
  },
  {
   "cell_type": "markdown",
   "metadata": {},
   "source": [
    "- Mengelompokkan 20 teratas Pokemon legendary yang memiliki speed tertinggi berdasarkan tipe 2 pokemon tersebut dengan catatan tipe 2 tidak boleh bernilai `none`"
   ]
  },
  {
   "cell_type": "code",
   "execution_count": 14,
   "metadata": {},
   "outputs": [
    {
     "data": {
      "text/plain": [
       "generation\n",
       "1    2\n",
       "2    1\n",
       "3    6\n",
       "4    2\n",
       "5    7\n",
       "6    2\n",
       "Name: generation, dtype: int64"
      ]
     },
     "execution_count": 14,
     "metadata": {},
     "output_type": "execute_result"
    }
   ],
   "source": [
    "pk.query(\"legendary==True & type_2!='None'\").sort_values('speed', ascending=False).iloc[:20].groupby('generation')['generation'].count()"
   ]
  },
  {
   "cell_type": "code",
   "execution_count": 15,
   "metadata": {},
   "outputs": [
    {
     "data": {
      "text/plain": [
       "<AxesSubplot:xlabel='generation'>"
      ]
     },
     "execution_count": 15,
     "metadata": {},
     "output_type": "execute_result"
    },
    {
     "data": {
      "image/png": "[encoded data removed]",
      "text/plain": [
       "<Figure size 432x288 with 1 Axes>"
      ]
     },
     "metadata": {
      "needs_background": "light"
     },
     "output_type": "display_data"
    }
   ],
   "source": [
    "pk.query(\"legendary==True & type_2!='None'\").sort_values('speed', ascending=False).iloc[:20].groupby('generation')['generation'].count().plot(kind=\"bar\")"
   ]
  },
  {
   "cell_type": "markdown",
   "metadata": {},
   "source": [
    "## Conclusions\n",
    "<hr>"
   ]
  },
  {
   "cell_type": "markdown",
   "metadata": {},
   "source": [
    "### Data Loading & Data Cleaning\n",
    "Dataset `pokemon.csv` yang berhasil dimuat menggunakan fungsi `read_csv()`pada awalnya memiliki 800 baris terkecuali pada kolom `type_2` yang hanya memiliki 414 nilai(baris), hal ini berarti tidak semua pokemon memiliki dua tipe elemen. Baris yang tidak memiliki nilai pada kolom `type_2` dapat ditangani dengan mengisi nilai `none`, sehingga jumlah baris yang dimiliki oleh `type_2` bisa sama dengan kolom-kolom lainnya.\n",
    "\n",
    "<img src=\"img/Picture1.png\" width=\"500px\" />"
   ]
  },
  {
   "cell_type": "markdown",
   "metadata": {},
   "source": [
    "Nama-nama kolom kemudian diubah menjadi bentuk format `nama_kolom` agar lebih mudah saat pemanggilan kolom yang dibutuhkan. Contoh: `Type_1`=>`type_1`\n",
    "\n",
    "Beberapa kolom yang tidak dibutuhkan juga dihapus seperti `defense`, `sp_attack`, `sp_def`, dan `total`. Hal ini cukup bisa mengurangi penggunaan memori yang digunakan"
   ]
  },
  {
   "cell_type": "markdown",
   "metadata": {},
   "source": [
    "### Data Query\n",
    "\n",
    "Dari hasil query yang dieksekusi dapat diketahui bahwa:\n",
    "1.  - Rata-rata HP Pokemon bertipe 'Rock': 65.36363636363636\n",
    "    - 5 Pokemon teratas yang memiliki HP diatas rata-rata ialah:\n",
    "**Aurorus, Tyranitar, Mega Tyranitar, Rampardos, Terrakion**\n",
    "\n",
    "2.  - Rata-rata ATK Pokemon Legendary:  116.67692307692307\n",
    "    - 5 Pokemon legendary terbawah yang memiliki ATK dibawah rata-rata ialah: **Regice, Deoxys Defense Forme, Suicune, Registell, Uxie**\n",
    "\n",
    "3. Pokemon generasi ke-2 yang memiliki speed terendah adalah **Snuckle** dengan hanya bernilai `5` poin"
   ]
  },
  {
   "cell_type": "markdown",
   "metadata": {},
   "source": [
    "### Grouping & Aggregation\n",
    "\n",
    "Dari hasil query yang dieksekusi dapat diketahui bahwa:\n",
    "\n",
    "- Generasi ke-3 memiliki jumlah pokemon legendary paling banyak dengan berjumlah **18** pokemon, sedangkan yang paling sedikit ada pada generasi kedua dengan hanya berjumlah **5** pokemon. Berikut gambaran lengkap hasil pengelompokkan:\n",
    "\n",
    "<img src=\"img/group_1.png\" width=\"400px\" />"
   ]
  },
  {
   "cell_type": "markdown",
   "metadata": {},
   "source": [
    "- Pokemon Legendary bertipe `Dragon` merupakan pokemon yang paling banyak ditemukan pada generasi ke-3 dengan berjumlah **6** pokemon. Sedangkan `Ice` dan `rock` paling sedikit dengan hanya memiliki **1** pokemon. Berikut visualisasi hasil pengelompokkan:\n",
    "\n",
    "<img src=\"img/group_2.png\" width=\"400px\" />"
   ]
  },
  {
   "cell_type": "markdown",
   "metadata": {},
   "source": [
    "- Pokemon Legendary pada generasi ke-5 memiliki jumlah pokemon dengan top speed tertinggi sebanyak **7** pokemon. Sedangkan generasi ke-2 paling sedikit dengan hanya memiliki **1** pokemon. Berikut visualisasi hasil pengelompokkan:\n",
    "\n",
    "<img src=\"img/group_4.png\" width=\"400px\" />"
   ]
  }
 ],
 "metadata": {
  "interpreter": {
   "hash": "14ea365952bdbae89a416bf9fb6d228665283457abcf209a32480eface1362a4"
  },
  "kernelspec": {
   "display_name": "Python 3.8.8 64-bit ('base': conda)",
   "language": "python",
   "name": "python3"
  },
  "language_info": {
   "codemirror_mode": {
    "name": "ipython",
    "version": 3
   },
   "file_extension": ".py",
   "mimetype": "text/x-python",
   "name": "python",
   "nbconvert_exporter": "python",
   "pygments_lexer": "ipython3",
   "version": "3.8.8"
  },
  "orig_nbformat": 4
 },
 "nbformat": 4,
 "nbformat_minor": 2
}
